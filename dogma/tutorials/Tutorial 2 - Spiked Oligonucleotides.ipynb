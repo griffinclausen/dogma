{
 "cells": [
  {
   "cell_type": "code",
   "execution_count": 4,
   "metadata": {},
   "outputs": [
    {
     "ename": "ImportError",
     "evalue": "cannot import name 'spiked_oligonucleotides' from 'dogma.extensions.spiked_oligonucleotides' (c:\\users\\griffin\\onedrive\\projects\\dogma\\dogma\\extensions\\spiked_oligonucleotides\\__init__.py)",
     "output_type": "error",
     "traceback": [
      "\u001b[1;31m---------------------------------------------------------------------------\u001b[0m",
      "\u001b[1;31mImportError\u001b[0m                               Traceback (most recent call last)",
      "\u001b[1;32m<ipython-input-4-ef66cc0af30e>\u001b[0m in \u001b[0;36m<module>\u001b[1;34m()\u001b[0m\n\u001b[0;32m      3\u001b[0m     GeneticCode)\n\u001b[0;32m      4\u001b[0m \u001b[1;33m\u001b[0m\u001b[0m\n\u001b[1;32m----> 5\u001b[1;33m from dogma.extensions.spiked_oligonucleotides import (\n\u001b[0m\u001b[0;32m      6\u001b[0m     spiked_oligonucleotides as spiked)\n",
      "\u001b[1;31mImportError\u001b[0m: cannot import name 'spiked_oligonucleotides' from 'dogma.extensions.spiked_oligonucleotides' (c:\\users\\griffin\\onedrive\\projects\\dogma\\dogma\\extensions\\spiked_oligonucleotides\\__init__.py)"
     ]
    }
   ],
   "source": [
    "from dogma import (\n",
    "    Oligonucleotide,\n",
    "    GeneticCode)\n",
    "\n",
    "from dogma.extensions.spiked_oligonucleotides import (\n",
    "    spiked_oligonucleotides as spiked)"
   ]
  },
  {
   "cell_type": "code",
   "execution_count": null,
   "metadata": {},
   "outputs": [],
   "source": []
  }
 ],
 "metadata": {
  "kernelspec": {
   "display_name": "Python 3",
   "language": "python",
   "name": "python3"
  },
  "language_info": {
   "codemirror_mode": {
    "name": "ipython",
    "version": 3
   },
   "file_extension": ".py",
   "mimetype": "text/x-python",
   "name": "python",
   "nbconvert_exporter": "python",
   "pygments_lexer": "ipython3",
   "version": "3.7.0"
  }
 },
 "nbformat": 4,
 "nbformat_minor": 2
}
